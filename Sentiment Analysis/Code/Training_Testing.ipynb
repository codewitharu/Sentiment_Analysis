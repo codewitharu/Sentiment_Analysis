{
 "cells": [
  {
   "cell_type": "code",
   "execution_count": 1,
   "metadata": {},
   "outputs": [],
   "source": [
    "import pandas as pd"
   ]
  },
  {
   "cell_type": "code",
   "execution_count": 2,
   "metadata": {},
   "outputs": [],
   "source": [
    "from sklearn.feature_extraction.text import ENGLISH_STOP_WORDS"
   ]
  },
  {
   "cell_type": "code",
   "execution_count": 3,
   "metadata": {},
   "outputs": [],
   "source": [
    "from nltk.tokenize import sent_tokenize, word_tokenize"
   ]
  },
  {
   "cell_type": "code",
   "execution_count": 4,
   "metadata": {},
   "outputs": [],
   "source": [
    "from nltk.stem import PorterStemmer"
   ]
  },
  {
   "cell_type": "code",
   "execution_count": 5,
   "metadata": {},
   "outputs": [],
   "source": [
    "from nltk.stem import WordNetLemmatizer"
   ]
  },
  {
   "cell_type": "code",
   "execution_count": 6,
   "metadata": {},
   "outputs": [],
   "source": [
    "from sklearn.feature_extraction.text import CountVectorizer"
   ]
  },
  {
   "cell_type": "code",
   "execution_count": null,
   "metadata": {},
   "outputs": [],
   "source": [
    "from sklearn.model_selection import train_test_split"
   ]
  },
  {
   "cell_type": "code",
   "execution_count": 7,
   "metadata": {},
   "outputs": [],
   "source": [
    "from keras.preprocessing.text import Tokenizer"
   ]
  },
  {
   "cell_type": "code",
   "execution_count": 8,
   "metadata": {},
   "outputs": [],
   "source": [
    "from keras.preprocessing.sequence import pad_sequences"
   ]
  },
  {
   "cell_type": "code",
   "execution_count": 9,
   "metadata": {},
   "outputs": [],
   "source": [
    "from keras import regularizers"
   ]
  },
  {
   "cell_type": "code",
   "execution_count": 10,
   "metadata": {},
   "outputs": [],
   "source": [
    "from keras.layers import Embedding"
   ]
  },
  {
   "cell_type": "code",
   "execution_count": 12,
   "metadata": {},
   "outputs": [],
   "source": [
    "from keras.layers import Dropout"
   ]
  },
  {
   "cell_type": "code",
   "execution_count": null,
   "metadata": {},
   "outputs": [],
   "source": [
    "from keras.models import Sequential\n",
    "from keras import layers\n",
    "from keras import regularizers\n",
    "from keras import backend as K"
   ]
  },
  {
   "cell_type": "code",
   "execution_count": null,
   "metadata": {},
   "outputs": [],
   "source": [
    "from keras.callbacks import ModelCheckpoint"
   ]
  },
  {
   "cell_type": "code",
   "execution_count": 13,
   "metadata": {},
   "outputs": [],
   "source": [
    "import numpy as np"
   ]
  },
  {
   "cell_type": "code",
   "execution_count": 15,
   "metadata": {},
   "outputs": [],
   "source": [
    "from sklearn.metrics import precision_score, recall_score, f1_score"
   ]
  },
  {
   "cell_type": "code",
   "execution_count": 16,
   "metadata": {},
   "outputs": [],
   "source": [
    "from sklearn.metrics import accuracy_score, confusion_matrix"
   ]
  },
  {
   "cell_type": "code",
   "execution_count": 17,
   "metadata": {},
   "outputs": [],
   "source": [
    "from sklearn.metrics import classification_report"
   ]
  },
  {
   "cell_type": "code",
   "execution_count": 18,
   "metadata": {},
   "outputs": [],
   "source": [
    "from sklearn.utils.multiclass import unique_labels"
   ]
  },
  {
   "cell_type": "code",
   "execution_count": 20,
   "metadata": {},
   "outputs": [],
   "source": [
    "from sklearn.metrics import plot_confusion_matrix"
   ]
  },
  {
   "cell_type": "code",
   "execution_count": 22,
   "metadata": {},
   "outputs": [],
   "source": [
    "import matplotlib.pyplot as plt"
   ]
  },
  {
   "cell_type": "code",
   "execution_count": 23,
   "metadata": {},
   "outputs": [],
   "source": [
    "import seaborn as sns"
   ]
  },
  {
   "cell_type": "code",
   "execution_count": 2,
   "metadata": {},
   "outputs": [],
   "source": [
    "df1= pd.read_csv('C:\\\\Users\\\\ARUNIMA DAS\\\\Desktop\\\\pythonP\\\\Twitter_Data.csv')"
   ]
  },
  {
   "cell_type": "code",
   "execution_count": 3,
   "metadata": {},
   "outputs": [
    {
     "data": {
      "text/html": [
       "<div>\n",
       "<style scoped>\n",
       "    .dataframe tbody tr th:only-of-type {\n",
       "        vertical-align: middle;\n",
       "    }\n",
       "\n",
       "    .dataframe tbody tr th {\n",
       "        vertical-align: top;\n",
       "    }\n",
       "\n",
       "    .dataframe thead th {\n",
       "        text-align: right;\n",
       "    }\n",
       "</style>\n",
       "<table border=\"1\" class=\"dataframe\">\n",
       "  <thead>\n",
       "    <tr style=\"text-align: right;\">\n",
       "      <th></th>\n",
       "      <th>clean_text</th>\n",
       "      <th>category</th>\n",
       "    </tr>\n",
       "  </thead>\n",
       "  <tbody>\n",
       "    <tr>\n",
       "      <th>0</th>\n",
       "      <td>when modi promised “minimum government maximum...</td>\n",
       "      <td>-1.0</td>\n",
       "    </tr>\n",
       "    <tr>\n",
       "      <th>1</th>\n",
       "      <td>talk all the nonsense and continue all the dra...</td>\n",
       "      <td>0.0</td>\n",
       "    </tr>\n",
       "    <tr>\n",
       "      <th>2</th>\n",
       "      <td>what did just say vote for modi  welcome bjp t...</td>\n",
       "      <td>1.0</td>\n",
       "    </tr>\n",
       "    <tr>\n",
       "      <th>3</th>\n",
       "      <td>asking his supporters prefix chowkidar their n...</td>\n",
       "      <td>1.0</td>\n",
       "    </tr>\n",
       "    <tr>\n",
       "      <th>4</th>\n",
       "      <td>answer who among these the most powerful world...</td>\n",
       "      <td>1.0</td>\n",
       "    </tr>\n",
       "    <tr>\n",
       "      <th>...</th>\n",
       "      <td>...</td>\n",
       "      <td>...</td>\n",
       "    </tr>\n",
       "    <tr>\n",
       "      <th>162975</th>\n",
       "      <td>why these 456 crores paid neerav modi not reco...</td>\n",
       "      <td>-1.0</td>\n",
       "    </tr>\n",
       "    <tr>\n",
       "      <th>162976</th>\n",
       "      <td>dear rss terrorist payal gawar what about modi...</td>\n",
       "      <td>-1.0</td>\n",
       "    </tr>\n",
       "    <tr>\n",
       "      <th>162977</th>\n",
       "      <td>did you cover her interaction forum where she ...</td>\n",
       "      <td>0.0</td>\n",
       "    </tr>\n",
       "    <tr>\n",
       "      <th>162978</th>\n",
       "      <td>there big project came into india modi dream p...</td>\n",
       "      <td>0.0</td>\n",
       "    </tr>\n",
       "    <tr>\n",
       "      <th>162979</th>\n",
       "      <td>have you ever listen about like gurukul where ...</td>\n",
       "      <td>1.0</td>\n",
       "    </tr>\n",
       "  </tbody>\n",
       "</table>\n",
       "<p>162980 rows × 2 columns</p>\n",
       "</div>"
      ],
      "text/plain": [
       "                                               clean_text  category\n",
       "0       when modi promised “minimum government maximum...      -1.0\n",
       "1       talk all the nonsense and continue all the dra...       0.0\n",
       "2       what did just say vote for modi  welcome bjp t...       1.0\n",
       "3       asking his supporters prefix chowkidar their n...       1.0\n",
       "4       answer who among these the most powerful world...       1.0\n",
       "...                                                   ...       ...\n",
       "162975  why these 456 crores paid neerav modi not reco...      -1.0\n",
       "162976  dear rss terrorist payal gawar what about modi...      -1.0\n",
       "162977  did you cover her interaction forum where she ...       0.0\n",
       "162978  there big project came into india modi dream p...       0.0\n",
       "162979  have you ever listen about like gurukul where ...       1.0\n",
       "\n",
       "[162980 rows x 2 columns]"
      ]
     },
     "execution_count": 3,
     "metadata": {},
     "output_type": "execute_result"
    }
   ],
   "source": [
    "df1"
   ]
  },
  {
   "cell_type": "code",
   "execution_count": 4,
   "metadata": {},
   "outputs": [
    {
     "data": {
      "text/plain": [
       "162969"
      ]
     },
     "execution_count": 4,
     "metadata": {},
     "output_type": "execute_result"
    }
   ],
   "source": [
    "df1.dropna(inplace= True, how= 'any' , axis=0)\n",
    "len(df1)"
   ]
  },
  {
   "cell_type": "code",
   "execution_count": null,
   "metadata": {},
   "outputs": [],
   "source": [
    "opinion=[]\n",
    "for i in df1.category:\n",
    "    if(i <0 ):\n",
    "        opinion.append('Negative')\n",
    "    elif (i > 0):\n",
    "        opinion.append('Positive')\n",
    "    else:\n",
    "         opinion.append('Nutral')\n"
   ]
  },
  {
   "cell_type": "code",
   "execution_count": null,
   "metadata": {},
   "outputs": [],
   "source": [
    "opinion"
   ]
  },
  {
   "cell_type": "code",
   "execution_count": null,
   "metadata": {},
   "outputs": [],
   "source": [
    "df1['Opinion']= opinion"
   ]
  },
  {
   "cell_type": "code",
   "execution_count": null,
   "metadata": {},
   "outputs": [],
   "source": [
    "df1.to_csv('training_data.csv', index= False)"
   ]
  },
  {
   "cell_type": "code",
   "execution_count": null,
   "metadata": {},
   "outputs": [],
   "source": [
    "df1['Opinion'].value_counts().sort_index().plot.bar()"
   ]
  },
  {
   "cell_type": "code",
   "execution_count": 2,
   "metadata": {},
   "outputs": [],
   "source": [
    "df2= pd.read_csv('C:\\\\Users\\\\ARUNIMA DAS\\\\Desktop\\\\pythonP\\\\training_data.csv')"
   ]
  },
  {
   "cell_type": "code",
   "execution_count": 4,
   "metadata": {},
   "outputs": [
    {
     "data": {
      "text/html": [
       "<div>\n",
       "<style scoped>\n",
       "    .dataframe tbody tr th:only-of-type {\n",
       "        vertical-align: middle;\n",
       "    }\n",
       "\n",
       "    .dataframe tbody tr th {\n",
       "        vertical-align: top;\n",
       "    }\n",
       "\n",
       "    .dataframe thead th {\n",
       "        text-align: right;\n",
       "    }\n",
       "</style>\n",
       "<table border=\"1\" class=\"dataframe\">\n",
       "  <thead>\n",
       "    <tr style=\"text-align: right;\">\n",
       "      <th></th>\n",
       "      <th>clean_text</th>\n",
       "      <th>Opinion</th>\n",
       "    </tr>\n",
       "  </thead>\n",
       "  <tbody>\n",
       "    <tr>\n",
       "      <th>0</th>\n",
       "      <td>when modi promised “minimum government maximum...</td>\n",
       "      <td>Negative</td>\n",
       "    </tr>\n",
       "    <tr>\n",
       "      <th>1</th>\n",
       "      <td>talk all the nonsense and continue all the dra...</td>\n",
       "      <td>Nutral</td>\n",
       "    </tr>\n",
       "    <tr>\n",
       "      <th>2</th>\n",
       "      <td>what did just say vote for modi  welcome bjp t...</td>\n",
       "      <td>Positive</td>\n",
       "    </tr>\n",
       "    <tr>\n",
       "      <th>3</th>\n",
       "      <td>asking his supporters prefix chowkidar their n...</td>\n",
       "      <td>Positive</td>\n",
       "    </tr>\n",
       "    <tr>\n",
       "      <th>4</th>\n",
       "      <td>answer who among these the most powerful world...</td>\n",
       "      <td>Positive</td>\n",
       "    </tr>\n",
       "  </tbody>\n",
       "</table>\n",
       "</div>"
      ],
      "text/plain": [
       "                                          clean_text   Opinion\n",
       "0  when modi promised “minimum government maximum...  Negative\n",
       "1  talk all the nonsense and continue all the dra...    Nutral\n",
       "2  what did just say vote for modi  welcome bjp t...  Positive\n",
       "3  asking his supporters prefix chowkidar their n...  Positive\n",
       "4  answer who among these the most powerful world...  Positive"
      ]
     },
     "execution_count": 4,
     "metadata": {},
     "output_type": "execute_result"
    }
   ],
   "source": [
    "df2[['clean_text','Opinion']].head(5)"
   ]
  },
  {
   "cell_type": "code",
   "execution_count": 13,
   "metadata": {},
   "outputs": [
    {
     "data": {
      "text/plain": [
       "'answer who among these the most powerful world leader today trump putin modi may '"
      ]
     },
     "execution_count": 13,
     "metadata": {},
     "output_type": "execute_result"
    }
   ],
   "source": [
    "df2.clean_text[4]"
   ]
  },
  {
   "cell_type": "code",
   "execution_count": 22,
   "metadata": {},
   "outputs": [],
   "source": [
    "sent_list=[]\n",
    "word_list=[]\n",
    "text_list= list(df2.clean_text)\n",
    "for i in range(len(text_list)):\n",
    "    #Sentence Tokenization\n",
    "    \n",
    "   # sent_list.append(sent_tokenize(text_list[i]))\n",
    "    #print(sent_list[i])\n",
    "   \n",
    "    #word Tokenization\n",
    "    \n",
    "    word_list.append(word_tokenize(text_list[i]))\n",
    "    #print(word_list[i])\n",
    "\n",
    "#df2['Sentence']= sent_list\n",
    "#df2['word']= word_list"
   ]
  },
  {
   "cell_type": "code",
   "execution_count": null,
   "metadata": {},
   "outputs": [],
   "source": [
    "word_list"
   ]
  },
  {
   "cell_type": "code",
   "execution_count": 17,
   "metadata": {},
   "outputs": [],
   "source": [
    "word_list= list(df2.word)"
   ]
  },
  {
   "cell_type": "code",
   "execution_count": 21,
   "metadata": {},
   "outputs": [],
   "source": [
    "for i in range(len(word_list)):\n",
    "    word_list[i]= word_list[i].split(',')"
   ]
  },
  {
   "cell_type": "code",
   "execution_count": 28,
   "metadata": {},
   "outputs": [],
   "source": [
    "\n",
    "for i in range(len(word_list)):\n",
    "    for words in word_list[i]:\n",
    "        #print(words)\n",
    "        if words in ENGLISH_STOP_WORDS:\n",
    "            print(words)\n",
    "            word_list[i].remove(words)\n",
    "            #print(word_list[i])"
   ]
  },
  {
   "cell_type": "code",
   "execution_count": 85,
   "metadata": {},
   "outputs": [
    {
     "data": {
      "text/plain": [
       "162969"
      ]
     },
     "execution_count": 85,
     "metadata": {},
     "output_type": "execute_result"
    }
   ],
   "source": [
    "len(word_list)"
   ]
  },
  {
   "cell_type": "code",
   "execution_count": null,
   "metadata": {},
   "outputs": [],
   "source": [
    "for i in range(len(word_list)):\n",
    "    for words in word_list[i]:\n",
    "        if(len(words)==1 or words.isdigit()):\n",
    "            print(words)\n",
    "            word_list[i].remove(words)\n",
    "            #print(word_list[i])"
   ]
  },
  {
   "cell_type": "code",
   "execution_count": 34,
   "metadata": {},
   "outputs": [],
   "source": [
    "for i in range(len(word_list)):\n",
    "    \n",
    "    for word in word_list[i]:\n",
    "        if not word.isalpha():\n",
    "            print(word)\n",
    "            word_list[i].remove(word)"
   ]
  },
  {
   "cell_type": "code",
   "execution_count": 35,
   "metadata": {},
   "outputs": [],
   "source": [
    "pstemmer = PorterStemmer()\n",
    "lemma = WordNetLemmatizer()\n",
    "for strs in word_list:\n",
    "    #Stemming\n",
    "    for i in range(0, len(strs)):\n",
    "        strs[i]=pstemmer.stem(strs[i])\n",
    "        \n",
    "     #Lemmatizing\n",
    "    for i in range(0,len(strs)):\n",
    "        strs[i]=lemma.lemmatize(strs[i], pos='a')     "
   ]
  },
  {
   "cell_type": "code",
   "execution_count": 36,
   "metadata": {},
   "outputs": [],
   "source": [
    "df2['word']= word_list"
   ]
  },
  {
   "cell_type": "code",
   "execution_count": 37,
   "metadata": {},
   "outputs": [],
   "source": [
    "df2.to_csv('training_data.csv', index= False)"
   ]
  },
  {
   "cell_type": "code",
   "execution_count": 26,
   "metadata": {},
   "outputs": [],
   "source": [
    "df3= pd.read_csv('C:\\\\Users\\\\ARUNIMA DAS\\\\Desktop\\\\pythonP\\\\training_data.csv')"
   ]
  },
  {
   "cell_type": "markdown",
   "metadata": {},
   "source": [
    "# Tokenization"
   ]
  },
  {
   "cell_type": "code",
   "execution_count": 27,
   "metadata": {},
   "outputs": [],
   "source": [
    "word= list(df3.word)"
   ]
  },
  {
   "cell_type": "code",
   "execution_count": 42,
   "metadata": {},
   "outputs": [],
   "source": [
    "vec = CountVectorizer()\n",
    "X = vec.fit_transform(word)\n",
    "#print(X.toarray())"
   ]
  },
  {
   "cell_type": "code",
   "execution_count": 24,
   "metadata": {},
   "outputs": [],
   "source": [
    "import numpy"
   ]
  },
  {
   "cell_type": "code",
   "execution_count": null,
   "metadata": {},
   "outputs": [],
   "source": [
    "print(vec.get_feature_names())\n"
   ]
  },
  {
   "cell_type": "code",
   "execution_count": null,
   "metadata": {},
   "outputs": [],
   "source": [
    "print(vec.vocabulary_)"
   ]
  },
  {
   "cell_type": "code",
   "execution_count": 45,
   "metadata": {},
   "outputs": [
    {
     "name": "stdout",
     "output_type": "stream",
     "text": [
      "81286\n"
     ]
    }
   ],
   "source": [
    "print(len(vec.get_feature_names()))"
   ]
  },
  {
   "cell_type": "code",
   "execution_count": 28,
   "metadata": {},
   "outputs": [
    {
     "name": "stdout",
     "output_type": "stream",
     "text": [
      "[[   0    0    0 ... 2847 2474 1006]\n",
      " [   0    0    0 ...  647    8    1]\n",
      " [   0    0    0 ...    1   19 2407]\n",
      " ...\n",
      " [   0    0    0 ... 1074 3972  309]\n",
      " [   0    0    0 ...  281   82  458]\n",
      " [   0    0    0 ...  273  285  114]]\n"
     ]
    }
   ],
   "source": [
    "max_words= 10000\n",
    "max_len= 50\n",
    "tokenizer = Tokenizer(num_words=max_words)\n",
    "tokenizer.fit_on_texts(word)\n",
    "sequences = tokenizer.texts_to_sequences(word)\n",
    "tweets = pad_sequences(sequences, maxlen=max_len)\n",
    "print(tweets)"
   ]
  },
  {
   "cell_type": "code",
   "execution_count": 22,
   "metadata": {},
   "outputs": [
    {
     "data": {
      "text/plain": [
       "(162969, 50)"
      ]
     },
     "execution_count": 22,
     "metadata": {},
     "output_type": "execute_result"
    }
   ],
   "source": [
    "tweets.shape"
   ]
  },
  {
   "cell_type": "code",
   "execution_count": 29,
   "metadata": {},
   "outputs": [],
   "source": [
    "embedding_layer = Embedding(10000, 128)\n"
   ]
  },
  {
   "cell_type": "code",
   "execution_count": 30,
   "metadata": {},
   "outputs": [
    {
     "data": {
      "text/plain": [
       "<keras.layers.embeddings.Embedding at 0x23e6ff63580>"
      ]
     },
     "execution_count": 30,
     "metadata": {},
     "output_type": "execute_result"
    }
   ],
   "source": [
    "embedding_layer"
   ]
  },
  {
   "cell_type": "code",
   "execution_count": 31,
   "metadata": {},
   "outputs": [],
   "source": [
    "y= list(df3.category)\n",
    "#y= np.array(y)\n",
    "for i in range(len(y)):\n",
    "    if(y[i]==-1):\n",
    "        y[i]= [1,0,0]\n",
    "    elif(y[i]==0):\n",
    "        y[i]= [0,1,0]\n",
    "    else:\n",
    "        y[i]= [0,0,1]\n",
    "#z = np.array([[1,0,0] if i == -1  else [0,0,1] for i in y])"
   ]
  },
  {
   "cell_type": "code",
   "execution_count": 32,
   "metadata": {},
   "outputs": [],
   "source": [
    "\n",
    "y= np.array(y)"
   ]
  },
  {
   "cell_type": "code",
   "execution_count": 33,
   "metadata": {},
   "outputs": [
    {
     "data": {
      "text/plain": [
       "(162969, 3)"
      ]
     },
     "execution_count": 33,
     "metadata": {},
     "output_type": "execute_result"
    }
   ],
   "source": [
    "y.shape"
   ]
  },
  {
   "cell_type": "code",
   "execution_count": 34,
   "metadata": {},
   "outputs": [],
   "source": [
    "Xtrain, Xtest, ytrain, ytest = train_test_split(tweets, y, shuffle = True, train_size = 0.8)\n"
   ]
  },
  {
   "cell_type": "code",
   "execution_count": 35,
   "metadata": {},
   "outputs": [
    {
     "data": {
      "text/plain": [
       "array([[   0,    0,    0, ..., 1442,   95,  510],\n",
       "       [   0,    0,    0, ...,    8, 2052,    3],\n",
       "       [   0,    0,    0, ...,  250,   85,  560],\n",
       "       ...,\n",
       "       [   0,    0,    0, ...,    2,   63,   80],\n",
       "       [   0,    0,    0, ...,  690,  135, 4421],\n",
       "       [   0,    0,    0, ...,   29,  486, 8996]])"
      ]
     },
     "execution_count": 35,
     "metadata": {},
     "output_type": "execute_result"
    }
   ],
   "source": [
    "Xtest"
   ]
  },
  {
   "cell_type": "code",
   "execution_count": 36,
   "metadata": {},
   "outputs": [
    {
     "data": {
      "text/plain": [
       "(32594, 3)"
      ]
     },
     "execution_count": 36,
     "metadata": {},
     "output_type": "execute_result"
    }
   ],
   "source": [
    "ytest.shape"
   ]
  },
  {
   "cell_type": "code",
   "execution_count": 37,
   "metadata": {},
   "outputs": [],
   "source": [
    "y_test= list(ytest)"
   ]
  },
  {
   "cell_type": "markdown",
   "metadata": {},
   "source": [
    "# Creating Model"
   ]
  },
  {
   "cell_type": "code",
   "execution_count": 38,
   "metadata": {},
   "outputs": [
    {
     "name": "stdout",
     "output_type": "stream",
     "text": [
      "Model: \"sequential\"\n",
      "_________________________________________________________________\n",
      " Layer (type)                Output Shape              Param #   \n",
      "=================================================================\n",
      " embedding_1 (Embedding)     (None, None, 128)         1280000   \n",
      "                                                                 \n",
      " dropout (Dropout)           (None, None, 128)         0         \n",
      "                                                                 \n",
      " lstm (LSTM)                 (None, None, 128)         131584    \n",
      "                                                                 \n",
      " lstm_1 (LSTM)               (None, None, 128)         131584    \n",
      "                                                                 \n",
      " dropout_1 (Dropout)         (None, None, 128)         0         \n",
      "                                                                 \n",
      " lstm_2 (LSTM)               (None, None, 128)         131584    \n",
      "                                                                 \n",
      " lstm_3 (LSTM)               (None, 128)               131584    \n",
      "                                                                 \n",
      " dense (Dense)               (None, 3)                 387       \n",
      "                                                                 \n",
      "=================================================================\n",
      "Total params: 1,806,723\n",
      "Trainable params: 1,806,723\n",
      "Non-trainable params: 0\n",
      "_________________________________________________________________\n"
     ]
    }
   ],
   "source": [
    "model1 = Sequential()\n",
    "model1.add(layers.Embedding(10000, 128)) #The embedding layer\n",
    "model1.add(Dropout(0.4))\n",
    "model1.add(layers.LSTM(128,dropout=0.2, return_sequences= True, recurrent_dropout= 0.2)) #Our LSTM layer\n",
    "model1.add(layers.LSTM(128, return_sequences=True, recurrent_dropout= 0.4, dropout= 0.5))# returns a sequence of vectors of dimension 32\n",
    "model1.add(Dropout(0.3))\n",
    "model1.add(layers.LSTM(128, return_sequences=True, recurrent_dropout= 0.4, dropout= 0.3))\n",
    "model1.add(layers.LSTM(128)) \n",
    "model1.add(layers.Dense(3,activation='softmax'))\n",
    "\n",
    "model1.summary()"
   ]
  },
  {
   "cell_type": "code",
   "execution_count": 39,
   "metadata": {},
   "outputs": [],
   "source": [
    "#model1.compile(optimizer='rmsprop',loss='categorical_crossentropy', metrics=['accuracy'])\n",
    "model1.compile(loss=\"categorical_crossentropy\", optimizer=\"adam\", metrics=[\"accuracy\"])"
   ]
  },
  {
   "cell_type": "code",
   "execution_count": 40,
   "metadata": {},
   "outputs": [],
   "source": [
    "checkpoint1 = ModelCheckpoint(\"best_model1.hdf5\", monitor='val_accuracy', verbose=1,save_best_only=True, mode='auto',save_weights_only=False)"
   ]
  },
  {
   "cell_type": "code",
   "execution_count": 41,
   "metadata": {},
   "outputs": [
    {
     "name": "stdout",
     "output_type": "stream",
     "text": [
      "Epoch 1/5\n",
      "4075/4075 [==============================] - ETA: 0s - loss: 0.5676 - accuracy: 0.7804\n",
      "Epoch 1: val_accuracy improved from -inf to 0.82098, saving model to best_model1.hdf5\n",
      "4075/4075 [==============================] - 1127s 274ms/step - loss: 0.5676 - accuracy: 0.7804 - val_loss: 0.4910 - val_accuracy: 0.8210\n",
      "Epoch 2/5\n",
      "4075/4075 [==============================] - ETA: 0s - loss: 0.4776 - accuracy: 0.8223\n",
      "Epoch 2: val_accuracy improved from 0.82098 to 0.82310, saving model to best_model1.hdf5\n",
      "4075/4075 [==============================] - 1058s 260ms/step - loss: 0.4776 - accuracy: 0.8223 - val_loss: 0.4739 - val_accuracy: 0.8231\n",
      "Epoch 3/5\n",
      "4075/4075 [==============================] - ETA: 0s - loss: 0.4492 - accuracy: 0.8335\n",
      "Epoch 3: val_accuracy did not improve from 0.82310\n",
      "4075/4075 [==============================] - 964s 237ms/step - loss: 0.4492 - accuracy: 0.8335 - val_loss: 0.4824 - val_accuracy: 0.8204\n",
      "Epoch 4/5\n",
      "4075/4075 [==============================] - ETA: 0s - loss: 0.4254 - accuracy: 0.8426\n",
      "Epoch 4: val_accuracy did not improve from 0.82310\n",
      "4075/4075 [==============================] - 1015s 249ms/step - loss: 0.4254 - accuracy: 0.8426 - val_loss: 0.4808 - val_accuracy: 0.8223\n",
      "Epoch 5/5\n",
      "4075/4075 [==============================] - ETA: 0s - loss: 0.4030 - accuracy: 0.8517\n",
      "Epoch 5: val_accuracy did not improve from 0.82310\n",
      "4075/4075 [==============================] - 1035s 254ms/step - loss: 0.4030 - accuracy: 0.8517 - val_loss: 0.4995 - val_accuracy: 0.8205\n"
     ]
    }
   ],
   "source": [
    "history=model1.fit(Xtrain, ytrain, epochs=5, validation_data=(Xtest, ytest),callbacks=[checkpoint1],batch_size= 32)"
   ]
  },
  {
   "cell_type": "code",
   "execution_count": 31,
   "metadata": {},
   "outputs": [
    {
     "name": "stdout",
     "output_type": "stream",
     "text": [
      "dict_keys(['loss', 'accuracy', 'val_loss', 'val_accuracy'])\n"
     ]
    }
   ],
   "source": [
    "print(history.history.keys())"
   ]
  },
  {
   "cell_type": "code",
   "execution_count": 36,
   "metadata": {},
   "outputs": [
    {
     "name": "stdout",
     "output_type": "stream",
     "text": [
      "1019/1019 [==============================] - 38s 37ms/step - loss: 0.5014 - accuracy: 0.8179\n"
     ]
    }
   ],
   "source": [
    "acc = model1.evaluate(Xtest, ytest)"
   ]
  },
  {
   "cell_type": "code",
   "execution_count": 69,
   "metadata": {},
   "outputs": [],
   "source": [
    "y_pred= model1.predict(Xtest)"
   ]
  },
  {
   "cell_type": "code",
   "execution_count": 70,
   "metadata": {},
   "outputs": [
    {
     "data": {
      "text/plain": [
       "array([[0.01807267, 0.9196331 , 0.06229423],\n",
       "       [0.8914975 , 0.06852815, 0.03997442],\n",
       "       [0.00536   , 0.00155605, 0.99308395],\n",
       "       ...,\n",
       "       [0.9743337 , 0.01275603, 0.01291029],\n",
       "       [0.02305605, 0.02424828, 0.95269567],\n",
       "       [0.00606537, 0.00393457, 0.99000007]], dtype=float32)"
      ]
     },
     "execution_count": 70,
     "metadata": {},
     "output_type": "execute_result"
    }
   ],
   "source": [
    "y_pred"
   ]
  },
  {
   "cell_type": "markdown",
   "metadata": {},
   "source": [
    "## Summary of accuray"
   ]
  },
  {
   "cell_type": "code",
   "execution_count": 42,
   "metadata": {},
   "outputs": [
    {
     "data": {
      "image/png": "[encoded data removed]",
      "text/plain": [
       "<Figure size 432x288 with 1 Axes>"
      ]
     },
     "metadata": {
      "needs_background": "light"
     },
     "output_type": "display_data"
    }
   ],
   "source": [
    "plt.plot(history.history['accuracy'])\n",
    "plt.plot(history.history['val_accuracy'])\n",
    "plt.title('model accuracy of 5 epochs')\n",
    "plt.ylabel('accuracy')\n",
    "plt.xlabel('epoch')\n",
    "plt.legend(['train', 'test'], loc='lower right')\n",
    "plt.show()"
   ]
  },
  {
   "cell_type": "code",
   "execution_count": 43,
   "metadata": {},
   "outputs": [
    {
     "data": {
      "image/png": "[encoded data removed]",
      "text/plain": [
       "<Figure size 432x288 with 1 Axes>"
      ]
     },
     "metadata": {
      "needs_background": "light"
     },
     "output_type": "display_data"
    }
   ],
   "source": [
    "plt.plot(history.history['loss'])\n",
    "plt.plot(history.history['val_loss'])\n",
    "plt.title('model loss of 5 epochs')\n",
    "plt.ylabel('loss')\n",
    "plt.xlabel('epoch')\n",
    "plt.legend(['train', 'test'], loc='lower right')\n",
    "plt.show()"
   ]
  },
  {
   "cell_type": "code",
   "execution_count": 71,
   "metadata": {},
   "outputs": [],
   "source": [
    "pred_y=[]\n",
    "for pred in y_pred:\n",
    "    if np.argmax(pred)==2:\n",
    "        pred_y.append(1)\n",
    "    elif np.argmax(pred)==1:\n",
    "           pred_y.append(0)\n",
    "    else:\n",
    "        pred_y.append(-1)"
   ]
  },
  {
   "cell_type": "code",
   "execution_count": 73,
   "metadata": {},
   "outputs": [],
   "source": [
    "y_test=[]\n",
    "for it in ytest:\n",
    "    if np.argmax(it)==2:\n",
    "        y_test.append(1)\n",
    "       # print(\"pos\")\n",
    "    elif np.argmax(it)==1:\n",
    "            y_test.append(0)\n",
    "            #print(\"ne\")\n",
    "    else:\n",
    "        y_test.append(-1)\n",
    "       #print(\"neg\")"
   ]
  },
  {
   "cell_type": "code",
   "execution_count": 113,
   "metadata": {},
   "outputs": [
    {
     "data": {
      "text/plain": [
       "array([[ 1,  1,  1],\n",
       "       [ 0,  0,  0],\n",
       "       [ 0,  0,  0],\n",
       "       ...,\n",
       "       [-1, -1, -1],\n",
       "       [ 0,  0,  0],\n",
       "       [ 1,  1,  1]])"
      ]
     },
     "execution_count": 113,
     "metadata": {},
     "output_type": "execute_result"
    }
   ],
   "source": [
    "ytest"
   ]
  },
  {
   "cell_type": "code",
   "execution_count": 86,
   "metadata": {},
   "outputs": [],
   "source": [
    "cm= confusion_matrix(y_test, pred_y)  "
   ]
  },
  {
   "cell_type": "code",
   "execution_count": 97,
   "metadata": {},
   "outputs": [
    {
     "data": {
      "text/plain": [
       "array([[ 5348,   601,  1108],\n",
       "       [  524,  9233,  1328],\n",
       "       [ 1028,  1346, 12078]], dtype=int64)"
      ]
     },
     "execution_count": 97,
     "metadata": {},
     "output_type": "execute_result"
    }
   ],
   "source": [
    "cm"
   ]
  },
  {
   "cell_type": "code",
   "execution_count": 99,
   "metadata": {},
   "outputs": [
    {
     "data": {
      "text/plain": [
       "array([-1,  0,  1])"
      ]
     },
     "execution_count": 99,
     "metadata": {},
     "output_type": "execute_result"
    }
   ],
   "source": [
    "unique_labels(y_test)"
   ]
  },
  {
   "cell_type": "code",
   "execution_count": 110,
   "metadata": {},
   "outputs": [],
   "source": [
    "def plot1(ytrue, ypred):\n",
    "    labels= unique_labels(y_test)\n",
    "    column= ['Negative','Neutral','Positive']\n",
    "    indices=['Negative','Neutral','Positive']\n",
    "    table= pd.DataFrame(confusion_matrix(ytrue,ypred),columns= column, \n",
    "                        index= indices)\n",
    "    return table"
   ]
  },
  {
   "cell_type": "code",
   "execution_count": 111,
   "metadata": {},
   "outputs": [
    {
     "data": {
      "text/html": [
       "<div>\n",
       "<style scoped>\n",
       "    .dataframe tbody tr th:only-of-type {\n",
       "        vertical-align: middle;\n",
       "    }\n",
       "\n",
       "    .dataframe tbody tr th {\n",
       "        vertical-align: top;\n",
       "    }\n",
       "\n",
       "    .dataframe thead th {\n",
       "        text-align: right;\n",
       "    }\n",
       "</style>\n",
       "<table border=\"1\" class=\"dataframe\">\n",
       "  <thead>\n",
       "    <tr style=\"text-align: right;\">\n",
       "      <th></th>\n",
       "      <th>Negative</th>\n",
       "      <th>Neutral</th>\n",
       "      <th>Positive</th>\n",
       "    </tr>\n",
       "  </thead>\n",
       "  <tbody>\n",
       "    <tr>\n",
       "      <th>Negative</th>\n",
       "      <td>5348</td>\n",
       "      <td>601</td>\n",
       "      <td>1108</td>\n",
       "    </tr>\n",
       "    <tr>\n",
       "      <th>Neutral</th>\n",
       "      <td>524</td>\n",
       "      <td>9233</td>\n",
       "      <td>1328</td>\n",
       "    </tr>\n",
       "    <tr>\n",
       "      <th>Positive</th>\n",
       "      <td>1028</td>\n",
       "      <td>1346</td>\n",
       "      <td>12078</td>\n",
       "    </tr>\n",
       "  </tbody>\n",
       "</table>\n",
       "</div>"
      ],
      "text/plain": [
       "          Negative  Neutral  Positive\n",
       "Negative      5348      601      1108\n",
       "Neutral        524     9233      1328\n",
       "Positive      1028     1346     12078"
      ]
     },
     "execution_count": 111,
     "metadata": {},
     "output_type": "execute_result"
    }
   ],
   "source": [
    "plot1(y_test, pred_y)"
   ]
  },
  {
   "cell_type": "code",
   "execution_count": 112,
   "metadata": {},
   "outputs": [],
   "source": [
    "def plot2(ytrue, ypred):\n",
    "    labels= unique_labels(y_test)\n",
    "    column= ['Negative','Neutral','Positive']\n",
    "    indices=['Negative','Neutral','Positive']\n",
    "    table= pd.DataFrame(confusion_matrix(ytrue,ypred),columns= column, \n",
    "                        index= indices)\n",
    "    return sns.heatmap(table,annot= True, fmt='d')\n"
   ]
  },
  {
   "cell_type": "code",
   "execution_count": 113,
   "metadata": {},
   "outputs": [
    {
     "data": {
      "text/plain": [
       "Text(0.5, 1.0, 'Confusion Matrix with labels\\n\\n')"
      ]
     },
     "execution_count": 113,
     "metadata": {},
     "output_type": "execute_result"
    },
    {
     "data": {
      "image/png": "[encoded data removed]",
      "text/plain": [
       "<Figure size 432x288 with 2 Axes>"
      ]
     },
     "metadata": {
      "needs_background": "light"
     },
     "output_type": "display_data"
    }
   ],
   "source": [
    "pl= plot2(y_test,pred_y)\n",
    "pl.set_xlabel('Pedicted Category')\n",
    "pl.set_ylabel('Actual Category')\n",
    "pl.set_title('Confusion Matrix with labels\\n\\n')"
   ]
  },
  {
   "cell_type": "code",
   "execution_count": 118,
   "metadata": {},
   "outputs": [],
   "source": [
    "def plot3(ytrue, ypred):\n",
    "    labels= unique_labels(y_test)\n",
    "    column= ['Negative','Neutral','Positive']\n",
    "    indices=['Negative','Neutral','Positive']\n",
    "    cm= confusion_matrix(ytrue,ypred)\n",
    "    table= pd.DataFrame(cm/np.sum(cm),columns= column, \n",
    "                        index= indices)\n",
    "    return sns.heatmap(table,annot= True, fmt='.2%')"
   ]
  },
  {
   "cell_type": "code",
   "execution_count": 120,
   "metadata": {},
   "outputs": [
    {
     "data": {
      "text/plain": [
       "Text(0.5, 1.0, 'Confusion Matrix for percentages with labels\\n\\n')"
      ]
     },
     "execution_count": 120,
     "metadata": {},
     "output_type": "execute_result"
    },
    {
     "data": {
      "image/png": "[encoded data removed]",
      "text/plain": [
       "<Figure size 432x288 with 2 Axes>"
      ]
     },
     "metadata": {
      "needs_background": "light"
     },
     "output_type": "display_data"
    }
   ],
   "source": [
    "pl= plot3(y_test,pred_y)\n",
    "pl.set_xlabel('Pedicted Category')\n",
    "pl.set_ylabel('Actual Category')\n",
    "pl.set_title('Confusion Matrix for percentages with labels\\n\\n')"
   ]
  },
  {
   "cell_type": "code",
   "execution_count": 77,
   "metadata": {},
   "outputs": [
    {
     "name": "stdout",
     "output_type": "stream",
     "text": [
      "              precision    recall  f1-score   support\n",
      "\n",
      "           1       0.83      0.84      0.83     14452\n",
      "           0       0.83      0.83      0.83     11085\n",
      "          -1       0.78      0.76      0.77      7057\n",
      "\n",
      "    accuracy                           0.82     32594\n",
      "   macro avg       0.81      0.81      0.81     32594\n",
      "weighted avg       0.82      0.82      0.82     32594\n",
      "\n"
     ]
    }
   ],
   "source": [
    "print(classification_report(y_test,pred_y, labels=[1,0,-1]))"
   ]
  },
  {
   "cell_type": "code",
   "execution_count": 78,
   "metadata": {},
   "outputs": [
    {
     "name": "stdout",
     "output_type": "stream",
     "text": [
      "0.82\n"
     ]
    }
   ],
   "source": [
    "print(\"%.2f\" % round(precision_score(y_test,pred_y, average='weighted'),2))\n"
   ]
  },
  {
   "cell_type": "code",
   "execution_count": 79,
   "metadata": {},
   "outputs": [
    {
     "name": "stdout",
     "output_type": "stream",
     "text": [
      "0.82\n"
     ]
    }
   ],
   "source": [
    "print(\"%.2f\" % round(recall_score(y_test,pred_y, average='weighted'),2))"
   ]
  },
  {
   "cell_type": "code",
   "execution_count": 80,
   "metadata": {},
   "outputs": [
    {
     "name": "stdout",
     "output_type": "stream",
     "text": [
      "0.82\n"
     ]
    }
   ],
   "source": [
    "print(\"%.2f\" % round(f1_score(y_test,pred_y, average='weighted'),2))"
   ]
  },
  {
   "cell_type": "markdown",
   "metadata": {},
   "source": [
    "# Testing Data"
   ]
  },
  {
   "cell_type": "code",
   "execution_count": 43,
   "metadata": {},
   "outputs": [],
   "source": [
    "df4= pd.read_csv('C:\\\\Users\\\\ARUNIMA DAS\\\\Desktop\\\\pythonP\\\\Reddit_Data.csv')"
   ]
  },
  {
   "cell_type": "code",
   "execution_count": 44,
   "metadata": {},
   "outputs": [],
   "source": [
    "word=list(df4.word)"
   ]
  },
  {
   "cell_type": "code",
   "execution_count": 45,
   "metadata": {},
   "outputs": [
    {
     "name": "stdout",
     "output_type": "stream",
     "text": [
      "[[   0    0    0 ...   13 1320  939]\n",
      " [ 156  615   83 ...    2 1028 1151]\n",
      " [   0    0    0 ...    8 1473  473]\n",
      " ...\n",
      " [   0    0    0 ... 1541 1303  862]\n",
      " [   0    0    0 ...    0 1289  315]\n",
      " [   0    0    0 ...   31    4  618]]\n"
     ]
    }
   ],
   "source": [
    "max_words= 3000\n",
    "max_len= 50\n",
    "tokenizer = Tokenizer(num_words=max_words)\n",
    "tokenizer.fit_on_texts(word)\n",
    "sequences = tokenizer.texts_to_sequences(word)\n",
    "tweets = pad_sequences(sequences, maxlen=max_len)\n",
    "print(tweets)"
   ]
  },
  {
   "cell_type": "code",
   "execution_count": 46,
   "metadata": {},
   "outputs": [
    {
     "data": {
      "text/plain": [
       "(37149, 50)"
      ]
     },
     "execution_count": 46,
     "metadata": {},
     "output_type": "execute_result"
    }
   ],
   "source": [
    "tweets.shape"
   ]
  },
  {
   "cell_type": "code",
   "execution_count": 47,
   "metadata": {},
   "outputs": [],
   "source": [
    "embedding_layer = Embedding(3000, 256)"
   ]
  },
  {
   "cell_type": "code",
   "execution_count": 48,
   "metadata": {},
   "outputs": [],
   "source": [
    "y= list(df4.category)\n",
    "#y= np.array(y)\n",
    "for i in range(len(y)):\n",
    "    if(y[i]==-1):\n",
    "        y[i]= [1,0,0]\n",
    "    elif(y[i]==0):\n",
    "        y[i]= [0,1,0]\n",
    "    else:\n",
    "        y[i]= [0,0,1]"
   ]
  },
  {
   "cell_type": "code",
   "execution_count": 49,
   "metadata": {},
   "outputs": [],
   "source": [
    "y= np.array(y)"
   ]
  },
  {
   "cell_type": "code",
   "execution_count": 50,
   "metadata": {},
   "outputs": [],
   "source": [
    "x1test= tweets"
   ]
  },
  {
   "cell_type": "code",
   "execution_count": 51,
   "metadata": {},
   "outputs": [],
   "source": [
    "y1test= y"
   ]
  },
  {
   "cell_type": "code",
   "execution_count": 52,
   "metadata": {},
   "outputs": [],
   "source": [
    "acc = model1.predict(x1test)"
   ]
  },
  {
   "cell_type": "code",
   "execution_count": 53,
   "metadata": {},
   "outputs": [],
   "source": [
    "prediction=[]\n",
    "for predc in acc:\n",
    "    if np.argmax(predc)==2:\n",
    "        prediction.append(1)\n",
    "    elif np.argmax(predc)==1:\n",
    "            prediction.append(0)\n",
    "    else:\n",
    "          prediction.append(-1)"
   ]
  },
  {
   "cell_type": "code",
   "execution_count": 46,
   "metadata": {},
   "outputs": [
    {
     "data": {
      "text/plain": [
       "37149"
      ]
     },
     "execution_count": 46,
     "metadata": {},
     "output_type": "execute_result"
    }
   ],
   "source": [
    "len(prediction)"
   ]
  },
  {
   "cell_type": "code",
   "execution_count": 54,
   "metadata": {},
   "outputs": [],
   "source": [
    "cat= list(df4.category)"
   ]
  },
  {
   "cell_type": "markdown",
   "metadata": {},
   "source": [
    "# Comparing Realing labels with predicted labels"
   ]
  },
  {
   "cell_type": "code",
   "execution_count": 55,
   "metadata": {},
   "outputs": [],
   "source": [
    "real_pos=0\n",
    "real_nau=0\n",
    "real_nev=0\n",
    "for i in cat:\n",
    "    if(i==1):\n",
    "        real_pos+=1\n",
    "    elif(i==0):\n",
    "        real_nau+=1\n",
    "    else:\n",
    "        real_nev+=1"
   ]
  },
  {
   "cell_type": "code",
   "execution_count": 56,
   "metadata": {},
   "outputs": [],
   "source": [
    "pos=0\n",
    "nau=0\n",
    "nev=0\n",
    "for predc in acc:\n",
    "    if np.argmax(predc)==2:\n",
    "        pos+=1\n",
    "    elif np.argmax(predc)==1:\n",
    "        nau+=1\n",
    "    else:\n",
    "        nev+=1"
   ]
  },
  {
   "cell_type": "code",
   "execution_count": 57,
   "metadata": {},
   "outputs": [
    {
     "name": "stdout",
     "output_type": "stream",
     "text": [
      "Number of predicted positive value 14390\n",
      "Real positive value 15830\n"
     ]
    }
   ],
   "source": [
    "print('Number of predicted positive value',pos)\n",
    "print('Real positive value',real_pos)"
   ]
  },
  {
   "cell_type": "code",
   "execution_count": 58,
   "metadata": {},
   "outputs": [
    {
     "name": "stdout",
     "output_type": "stream",
     "text": [
      "Number of predicted nautral value 16814\n",
      "Real nautral value 13042\n"
     ]
    }
   ],
   "source": [
    "print('Number of predicted nautral value',nau)\n",
    "print('Real nautral value',real_nau)"
   ]
  },
  {
   "cell_type": "code",
   "execution_count": 59,
   "metadata": {},
   "outputs": [
    {
     "name": "stdout",
     "output_type": "stream",
     "text": [
      "Number of predicted negative value 5945\n",
      "Real negative value 8277\n"
     ]
    }
   ],
   "source": [
    "print('Number of predicted negative value',nev)\n",
    "print('Real negative value',real_nev)"
   ]
  },
  {
   "cell_type": "code",
   "execution_count": 62,
   "metadata": {},
   "outputs": [],
   "source": [
    "df4['Prediction']= prediction"
   ]
  },
  {
   "cell_type": "code",
   "execution_count": 63,
   "metadata": {},
   "outputs": [
    {
     "name": "stdout",
     "output_type": "stream",
     "text": [
      "<class 'pandas.core.frame.DataFrame'>\n",
      "RangeIndex: 37149 entries, 0 to 37148\n",
      "Data columns (total 4 columns):\n",
      " #   Column         Non-Null Count  Dtype \n",
      "---  ------         --------------  ----- \n",
      " 0   clean_comment  37149 non-null  object\n",
      " 1   category       37149 non-null  int64 \n",
      " 2   word           37149 non-null  object\n",
      " 3   Prediction     37149 non-null  int64 \n",
      "dtypes: int64(2), object(2)\n",
      "memory usage: 1.1+ MB\n"
     ]
    }
   ],
   "source": [
    "df4.info()"
   ]
  },
  {
   "cell_type": "code",
   "execution_count": 64,
   "metadata": {},
   "outputs": [],
   "source": [
    "df4.to_csv('testing_data.csv', index= False)"
   ]
  },
  {
   "cell_type": "code",
   "execution_count": 37,
   "metadata": {},
   "outputs": [],
   "source": [
    "df5=  pd.read_csv('E:\\\\pythonP\\\\imp_final_data.csv')"
   ]
  },
  {
   "cell_type": "code",
   "execution_count": 38,
   "metadata": {},
   "outputs": [],
   "source": [
    "word= list(df5.nostop)"
   ]
  },
  {
   "cell_type": "code",
   "execution_count": 62,
   "metadata": {},
   "outputs": [
    {
     "data": {
      "text/plain": [
       "\"['тhe', 'children', 'room', 'open', 'close', 'children', 'play', 'floor', 'hallway', 'patron', 'help', 'cryptocurr', 'buy', 'nft', 'grow', 'strong', 'consid', 'donat', 'crypto', 'help', 'nft', 'helpukrain', 'stopputin', 'standwithukrain']\""
      ]
     },
     "execution_count": 62,
     "metadata": {},
     "output_type": "execute_result"
    }
   ],
   "source": [
    "max(word)"
   ]
  },
  {
   "cell_type": "code",
   "execution_count": 40,
   "metadata": {},
   "outputs": [
    {
     "data": {
      "text/plain": [
       "\"['aap', 'urg', 'govt', 'overrid', 'right', 'punjab', 'govt', 'chandigarh', 'admn', 'sunni', 'russianarmi', 'noflyzoneua']\""
      ]
     },
     "execution_count": 40,
     "metadata": {},
     "output_type": "execute_result"
    }
   ],
   "source": [
    "min(word)"
   ]
  },
  {
   "cell_type": "code",
   "execution_count": 41,
   "metadata": {},
   "outputs": [
    {
     "name": "stdout",
     "output_type": "stream",
     "text": [
      "[[  0   0   0 ... 993   4   7]\n",
      " [  0   0   0 ...  60  14   8]\n",
      " [  0   0   0 ...  92   7 148]\n",
      " ...\n",
      " [  0   0   0 ...  10  11   1]\n",
      " [  0   0   0 ...   0 248  10]\n",
      " [  0   0   0 ...  61  33   2]]\n"
     ]
    }
   ],
   "source": [
    "max_words= 5000\n",
    "max_len= 35\n",
    "tokenizer = Tokenizer(num_words=max_words)\n",
    "tokenizer.fit_on_texts(word)\n",
    "sequences = tokenizer.texts_to_sequences(word)\n",
    "texts = pad_sequences(sequences, maxlen=max_len)\n",
    "print(texts)"
   ]
  },
  {
   "cell_type": "code",
   "execution_count": 42,
   "metadata": {},
   "outputs": [],
   "source": [
    "pred = model1.predict(texts)"
   ]
  },
  {
   "cell_type": "code",
   "execution_count": 66,
   "metadata": {},
   "outputs": [
    {
     "data": {
      "text/plain": [
       "array([[1.17778340e-02, 9.57678676e-01, 3.05435136e-02],\n",
       "       [9.22176187e-05, 1.29434731e-04, 9.99778330e-01],\n",
       "       [1.59244820e-01, 3.27628627e-02, 8.07992339e-01],\n",
       "       ...,\n",
       "       [1.12657346e-01, 8.48188162e-01, 3.91545109e-02],\n",
       "       [7.99615588e-03, 9.46560740e-01, 4.54430357e-02],\n",
       "       [9.78852808e-01, 7.39048049e-03, 1.37567576e-02]], dtype=float32)"
      ]
     },
     "execution_count": 66,
     "metadata": {},
     "output_type": "execute_result"
    }
   ],
   "source": [
    "pred"
   ]
  },
  {
   "cell_type": "code",
   "execution_count": 43,
   "metadata": {},
   "outputs": [],
   "source": [
    "prediction=[]\n",
    "for p in pred:\n",
    "    if np.argmax(p)==2:\n",
    "        prediction.append(1)\n",
    "    elif np.argmax(p)==1:\n",
    "            prediction.append(0)\n",
    "    else:\n",
    "          prediction.append(-1)"
   ]
  },
  {
   "cell_type": "code",
   "execution_count": 44,
   "metadata": {},
   "outputs": [],
   "source": [
    "positive=0\n",
    "neutral=0\n",
    "negative=0\n",
    "for p in prediction:\n",
    "    if(p==1):\n",
    "        positive+=1\n",
    "    elif(p==-1):\n",
    "        negative+=1\n",
    "    else:\n",
    "        neutral+=1"
   ]
  },
  {
   "cell_type": "code",
   "execution_count": 48,
   "metadata": {},
   "outputs": [
    {
     "name": "stdout",
     "output_type": "stream",
     "text": [
      "10531\n"
     ]
    }
   ],
   "source": [
    "print(positive)"
   ]
  },
  {
   "cell_type": "code",
   "execution_count": 49,
   "metadata": {},
   "outputs": [
    {
     "name": "stdout",
     "output_type": "stream",
     "text": [
      "5040\n"
     ]
    }
   ],
   "source": [
    "print(negative)"
   ]
  },
  {
   "cell_type": "code",
   "execution_count": 50,
   "metadata": {},
   "outputs": [
    {
     "name": "stdout",
     "output_type": "stream",
     "text": [
      "8368\n"
     ]
    }
   ],
   "source": [
    "print(neutral)"
   ]
  },
  {
   "cell_type": "code",
   "execution_count": 84,
   "metadata": {},
   "outputs": [],
   "source": [
    "df5['Label']= prediction "
   ]
  },
  {
   "cell_type": "code",
   "execution_count": 51,
   "metadata": {},
   "outputs": [
    {
     "data": {
      "text/plain": [
       "(23939, 12)"
      ]
     },
     "execution_count": 51,
     "metadata": {},
     "output_type": "execute_result"
    }
   ],
   "source": [
    "df5.shape"
   ]
  },
  {
   "cell_type": "code",
   "execution_count": 90,
   "metadata": {},
   "outputs": [
    {
     "data": {
      "text/plain": [
       "'tears. take a handful of minutes and watch. russianukrainianwar slavaukraini '"
      ]
     },
     "execution_count": 90,
     "metadata": {},
     "output_type": "execute_result"
    }
   ],
   "source": [
    "df5.text[2]"
   ]
  },
  {
   "cell_type": "code",
   "execution_count": 91,
   "metadata": {},
   "outputs": [],
   "source": [
    "df5.to_csv('imp_final_data.csv', index= False)"
   ]
  },
  {
   "cell_type": "code",
   "execution_count": 92,
   "metadata": {},
   "outputs": [
    {
     "data": {
      "text/html": [
       "<div>\n",
       "<style scoped>\n",
       "    .dataframe tbody tr th:only-of-type {\n",
       "        vertical-align: middle;\n",
       "    }\n",
       "\n",
       "    .dataframe tbody tr th {\n",
       "        vertical-align: top;\n",
       "    }\n",
       "\n",
       "    .dataframe thead th {\n",
       "        text-align: right;\n",
       "    }\n",
       "</style>\n",
       "<table border=\"1\" class=\"dataframe\">\n",
       "  <thead>\n",
       "    <tr style=\"text-align: right;\">\n",
       "      <th></th>\n",
       "      <th>tweet_id</th>\n",
       "      <th>user_name</th>\n",
       "      <th>user_location</th>\n",
       "      <th>date</th>\n",
       "      <th>text</th>\n",
       "      <th>hashtags</th>\n",
       "      <th>Sentence</th>\n",
       "      <th>word</th>\n",
       "      <th>nostop</th>\n",
       "      <th>Label</th>\n",
       "    </tr>\n",
       "  </thead>\n",
       "  <tbody>\n",
       "    <tr>\n",
       "      <th>0</th>\n",
       "      <td>1.504560e+18</td>\n",
       "      <td>PMESII</td>\n",
       "      <td>Antarctica</td>\n",
       "      <td>2022-03-17 20:42:42+00:00</td>\n",
       "      <td>russian occupants in the homes of ukrainian c...</td>\n",
       "      <td>['Russian', 'Ukrainian', 'UkraineRussiaWar', '...</td>\n",
       "      <td>[' russian occupants in the homes of ukrainian...</td>\n",
       "      <td>['russian', 'occup', 'home', 'ukrainian', 'civ...</td>\n",
       "      <td>['russian', 'occup', 'home', 'ukrainian', 'civ...</td>\n",
       "      <td>1</td>\n",
       "    </tr>\n",
       "    <tr>\n",
       "      <th>1</th>\n",
       "      <td>1.504560e+18</td>\n",
       "      <td>RED Python (EngD PhD)</td>\n",
       "      <td>United States</td>\n",
       "      <td>2022-03-17 20:42:28+00:00</td>\n",
       "      <td>the worst leadership of a country ever ukraine...</td>\n",
       "      <td>['UkraineRussiaWar', 'UkraineUnderAttack', 'Uk...</td>\n",
       "      <td>['the worst leadership of a country ever ukrai...</td>\n",
       "      <td>['bad', 'leadership', 'countri', 'ukrainerussi...</td>\n",
       "      <td>['bad', 'leadership', 'countri', 'ukrainerussi...</td>\n",
       "      <td>1</td>\n",
       "    </tr>\n",
       "    <tr>\n",
       "      <th>2</th>\n",
       "      <td>1.504560e+18</td>\n",
       "      <td>JimOnLight</td>\n",
       "      <td>Dallas, TX</td>\n",
       "      <td>2022-03-17 20:42:27+00:00</td>\n",
       "      <td>tears. take a handful of minutes and watch. ru...</td>\n",
       "      <td>['RussianUkrainianWar', 'SlavaUkraini']</td>\n",
       "      <td>['tears.', 'take a handful of minutes and watc...</td>\n",
       "      <td>['tear', 'hand', 'minut', 'watch', 'russianukr...</td>\n",
       "      <td>['tear', 'hand', 'minut', 'watch', 'russianukr...</td>\n",
       "      <td>0</td>\n",
       "    </tr>\n",
       "    <tr>\n",
       "      <th>3</th>\n",
       "      <td>1.504560e+18</td>\n",
       "      <td>Peter Brandt</td>\n",
       "      <td>Paombong, Central Luzon</td>\n",
       "      <td>2022-03-17 20:41:51+00:00</td>\n",
       "      <td>putin allegedly arrests his own military chief...</td>\n",
       "      <td>['Ukraine', 'UkraineWar', 'UkraineUnderAttack'...</td>\n",
       "      <td>['putin allegedly arrests his own military chi...</td>\n",
       "      <td>['putin', 'allegedli', 'arrest', 'militari', '...</td>\n",
       "      <td>['putin', 'allegedli', 'arrest', 'militari', '...</td>\n",
       "      <td>-1</td>\n",
       "    </tr>\n",
       "    <tr>\n",
       "      <th>4</th>\n",
       "      <td>1.504560e+18</td>\n",
       "      <td>World news</td>\n",
       "      <td>NaN</td>\n",
       "      <td>2022-03-17 20:41:37+00:00</td>\n",
       "      <td>scenes of destruction left by the russian army...</td>\n",
       "      <td>['UkraineRussiaWar', 'Mariupol', 'UkraineRussi...</td>\n",
       "      <td>['scenes of destruction left by the russian ar...</td>\n",
       "      <td>['scene', 'destruct', 'left', 'russian', 'armi...</td>\n",
       "      <td>['scene', 'destruct', 'left', 'russian', 'armi...</td>\n",
       "      <td>0</td>\n",
       "    </tr>\n",
       "    <tr>\n",
       "      <th>5</th>\n",
       "      <td>1.504560e+18</td>\n",
       "      <td>Angela Veitch</td>\n",
       "      <td>Ottawa, Ontario</td>\n",
       "      <td>2022-03-17 20:41:37+00:00</td>\n",
       "      <td>an authentic heartfelt plea to the russian peo...</td>\n",
       "      <td>['RussianUkrainianWar', 'truth', 'StopTheInvas...</td>\n",
       "      <td>['an authentic heartfelt plea to the russian p...</td>\n",
       "      <td>['authent', 'heartfelt', 'plea', 'russian', 'p...</td>\n",
       "      <td>['authent', 'heartfelt', 'plea', 'russian', 'p...</td>\n",
       "      <td>-1</td>\n",
       "    </tr>\n",
       "    <tr>\n",
       "      <th>6</th>\n",
       "      <td>1.504560e+18</td>\n",
       "      <td>Asiana Times</td>\n",
       "      <td>India</td>\n",
       "      <td>2022-03-17 20:41:36+00:00</td>\n",
       "      <td>explained: analysis of putin’s nuclear threat....</td>\n",
       "      <td>['UkraineKrieg', 'RussianUkrainianWar', 'Khark...</td>\n",
       "      <td>['explained: analysis of putin’s nuclear threa...</td>\n",
       "      <td>['explain', 'analysi', 'putin', 'nuclear', 'ar...</td>\n",
       "      <td>['explain', 'analysi', 'putin', 'nuclear', 'ar...</td>\n",
       "      <td>0</td>\n",
       "    </tr>\n",
       "    <tr>\n",
       "      <th>7</th>\n",
       "      <td>1.504560e+18</td>\n",
       "      <td>Nataliia</td>\n",
       "      <td>NaN</td>\n",
       "      <td>2022-03-17 20:41:29+00:00</td>\n",
       "      <td>stoprussia stopputin warinukraine russianukra...</td>\n",
       "      <td>['StopRussia', 'StopPutin', 'WARINUKRAINE', 'R...</td>\n",
       "      <td>[' stoprussia stopputin warinukraine russianuk...</td>\n",
       "      <td>['stoprussia', 'stopputin', 'warinukrain', 'ru...</td>\n",
       "      <td>['stoprussia', 'stopputin', 'warinukrain', 'ru...</td>\n",
       "      <td>1</td>\n",
       "    </tr>\n",
       "    <tr>\n",
       "      <th>8</th>\n",
       "      <td>1.504560e+18</td>\n",
       "      <td>CitizenScouse</td>\n",
       "      <td>Liverpool, United Kingdom</td>\n",
       "      <td>2022-03-17 20:41:10+00:00</td>\n",
       "      <td>the media desperately trying to get other coun...</td>\n",
       "      <td>['Mariupol', 'UkraineRussiaWar', 'RussianUkrai...</td>\n",
       "      <td>['the media desperately trying to get other co...</td>\n",
       "      <td>['media', 'desper', 'tri', 'countri', 'involv'...</td>\n",
       "      <td>['media', 'desper', 'tri', 'countri', 'involv'...</td>\n",
       "      <td>1</td>\n",
       "    </tr>\n",
       "    <tr>\n",
       "      <th>9</th>\n",
       "      <td>1.504560e+18</td>\n",
       "      <td>emmm</td>\n",
       "      <td>Planet Earth</td>\n",
       "      <td>2022-03-17 20:41:08+00:00</td>\n",
       "      <td>russia russianukrainianwar russiaukraineconfl...</td>\n",
       "      <td>['Russia', 'RussianUkrainianWar', 'RussiaUkrai...</td>\n",
       "      <td>[' russia russianukrainianwar russiaukrainecon...</td>\n",
       "      <td>['russia', 'russianukrainianwar', 'russiaukrai...</td>\n",
       "      <td>['russia', 'russianukrainianwar', 'russiaukrai...</td>\n",
       "      <td>1</td>\n",
       "    </tr>\n",
       "  </tbody>\n",
       "</table>\n",
       "</div>"
      ],
      "text/plain": [
       "       tweet_id              user_name              user_location  \\\n",
       "0  1.504560e+18                 PMESII                 Antarctica   \n",
       "1  1.504560e+18  RED Python (EngD PhD)              United States   \n",
       "2  1.504560e+18             JimOnLight                 Dallas, TX   \n",
       "3  1.504560e+18           Peter Brandt    Paombong, Central Luzon   \n",
       "4  1.504560e+18             World news                        NaN   \n",
       "5  1.504560e+18          Angela Veitch            Ottawa, Ontario   \n",
       "6  1.504560e+18           Asiana Times                      India   \n",
       "7  1.504560e+18               Nataliia                        NaN   \n",
       "8  1.504560e+18          CitizenScouse  Liverpool, United Kingdom   \n",
       "9  1.504560e+18                   emmm               Planet Earth   \n",
       "\n",
       "                        date  \\\n",
       "0  2022-03-17 20:42:42+00:00   \n",
       "1  2022-03-17 20:42:28+00:00   \n",
       "2  2022-03-17 20:42:27+00:00   \n",
       "3  2022-03-17 20:41:51+00:00   \n",
       "4  2022-03-17 20:41:37+00:00   \n",
       "5  2022-03-17 20:41:37+00:00   \n",
       "6  2022-03-17 20:41:36+00:00   \n",
       "7  2022-03-17 20:41:29+00:00   \n",
       "8  2022-03-17 20:41:10+00:00   \n",
       "9  2022-03-17 20:41:08+00:00   \n",
       "\n",
       "                                                text  \\\n",
       "0   russian occupants in the homes of ukrainian c...   \n",
       "1  the worst leadership of a country ever ukraine...   \n",
       "2  tears. take a handful of minutes and watch. ru...   \n",
       "3  putin allegedly arrests his own military chief...   \n",
       "4  scenes of destruction left by the russian army...   \n",
       "5  an authentic heartfelt plea to the russian peo...   \n",
       "6  explained: analysis of putin’s nuclear threat....   \n",
       "7   stoprussia stopputin warinukraine russianukra...   \n",
       "8  the media desperately trying to get other coun...   \n",
       "9   russia russianukrainianwar russiaukraineconfl...   \n",
       "\n",
       "                                            hashtags  \\\n",
       "0  ['Russian', 'Ukrainian', 'UkraineRussiaWar', '...   \n",
       "1  ['UkraineRussiaWar', 'UkraineUnderAttack', 'Uk...   \n",
       "2            ['RussianUkrainianWar', 'SlavaUkraini']   \n",
       "3  ['Ukraine', 'UkraineWar', 'UkraineUnderAttack'...   \n",
       "4  ['UkraineRussiaWar', 'Mariupol', 'UkraineRussi...   \n",
       "5  ['RussianUkrainianWar', 'truth', 'StopTheInvas...   \n",
       "6  ['UkraineKrieg', 'RussianUkrainianWar', 'Khark...   \n",
       "7  ['StopRussia', 'StopPutin', 'WARINUKRAINE', 'R...   \n",
       "8  ['Mariupol', 'UkraineRussiaWar', 'RussianUkrai...   \n",
       "9  ['Russia', 'RussianUkrainianWar', 'RussiaUkrai...   \n",
       "\n",
       "                                            Sentence  \\\n",
       "0  [' russian occupants in the homes of ukrainian...   \n",
       "1  ['the worst leadership of a country ever ukrai...   \n",
       "2  ['tears.', 'take a handful of minutes and watc...   \n",
       "3  ['putin allegedly arrests his own military chi...   \n",
       "4  ['scenes of destruction left by the russian ar...   \n",
       "5  ['an authentic heartfelt plea to the russian p...   \n",
       "6  ['explained: analysis of putin’s nuclear threa...   \n",
       "7  [' stoprussia stopputin warinukraine russianuk...   \n",
       "8  ['the media desperately trying to get other co...   \n",
       "9  [' russia russianukrainianwar russiaukrainecon...   \n",
       "\n",
       "                                                word  \\\n",
       "0  ['russian', 'occup', 'home', 'ukrainian', 'civ...   \n",
       "1  ['bad', 'leadership', 'countri', 'ukrainerussi...   \n",
       "2  ['tear', 'hand', 'minut', 'watch', 'russianukr...   \n",
       "3  ['putin', 'allegedli', 'arrest', 'militari', '...   \n",
       "4  ['scene', 'destruct', 'left', 'russian', 'armi...   \n",
       "5  ['authent', 'heartfelt', 'plea', 'russian', 'p...   \n",
       "6  ['explain', 'analysi', 'putin', 'nuclear', 'ar...   \n",
       "7  ['stoprussia', 'stopputin', 'warinukrain', 'ru...   \n",
       "8  ['media', 'desper', 'tri', 'countri', 'involv'...   \n",
       "9  ['russia', 'russianukrainianwar', 'russiaukrai...   \n",
       "\n",
       "                                              nostop  Label  \n",
       "0  ['russian', 'occup', 'home', 'ukrainian', 'civ...      1  \n",
       "1  ['bad', 'leadership', 'countri', 'ukrainerussi...      1  \n",
       "2  ['tear', 'hand', 'minut', 'watch', 'russianukr...      0  \n",
       "3  ['putin', 'allegedli', 'arrest', 'militari', '...     -1  \n",
       "4  ['scene', 'destruct', 'left', 'russian', 'armi...      0  \n",
       "5  ['authent', 'heartfelt', 'plea', 'russian', 'p...     -1  \n",
       "6  ['explain', 'analysi', 'putin', 'nuclear', 'ar...      0  \n",
       "7  ['stoprussia', 'stopputin', 'warinukrain', 'ru...      1  \n",
       "8  ['media', 'desper', 'tri', 'countri', 'involv'...      1  \n",
       "9  ['russia', 'russianukrainianwar', 'russiaukrai...      1  "
      ]
     },
     "execution_count": 92,
     "metadata": {},
     "output_type": "execute_result"
    }
   ],
   "source": [
    "df5.head(10)"
   ]
  },
  {
   "cell_type": "code",
   "execution_count": 54,
   "metadata": {},
   "outputs": [],
   "source": [
    "df6= pd.read_csv('E:\\\\pythonP\\\\new_imp_data.csv')"
   ]
  },
  {
   "cell_type": "code",
   "execution_count": 56,
   "metadata": {},
   "outputs": [
    {
     "name": "stdout",
     "output_type": "stream",
     "text": [
      "<class 'pandas.core.frame.DataFrame'>\n",
      "RangeIndex: 24146 entries, 0 to 24145\n",
      "Data columns (total 7 columns):\n",
      " #   Column         Non-Null Count  Dtype \n",
      "---  ------         --------------  ----- \n",
      " 0   tweet_id       24146 non-null  int64 \n",
      " 1   user_name      24145 non-null  object\n",
      " 2   user_location  15532 non-null  object\n",
      " 3   date           24146 non-null  object\n",
      " 4   text           24146 non-null  object\n",
      " 5   hashtags       24145 non-null  object\n",
      " 6   word           24146 non-null  object\n",
      "dtypes: int64(1), object(6)\n",
      "memory usage: 1.3+ MB\n"
     ]
    }
   ],
   "source": [
    "df6.info()"
   ]
  },
  {
   "cell_type": "code",
   "execution_count": 60,
   "metadata": {},
   "outputs": [],
   "source": [
    "texts= list(df6.word)"
   ]
  },
  {
   "cell_type": "code",
   "execution_count": 69,
   "metadata": {},
   "outputs": [
    {
     "name": "stdout",
     "output_type": "stream",
     "text": [
      "[[   0    0    0 ...  142    1    7]\n",
      " [   0    0    0 ...    3    2    7]\n",
      " [   0    0    0 ...  911 2934    7]\n",
      " ...\n",
      " [   0    0    0 ...  134  351  974]\n",
      " [   0    0    0 ...  173 4052    2]\n",
      " [   0    0    0 ...  144   30    1]]\n"
     ]
    }
   ],
   "source": [
    "max_words= 5000\n",
    "max_len= 35\n",
    "tokenizer = Tokenizer(num_words=max_words)\n",
    "tokenizer.fit_on_texts(texts)\n",
    "sequences = tokenizer.texts_to_sequences(texts)\n",
    "text = pad_sequences(sequences, maxlen=max_len)\n",
    "print(text)"
   ]
  },
  {
   "cell_type": "code",
   "execution_count": 71,
   "metadata": {},
   "outputs": [],
   "source": [
    "pred_new = model1.predict(text)"
   ]
  },
  {
   "cell_type": "code",
   "execution_count": 72,
   "metadata": {},
   "outputs": [],
   "source": [
    "prediction=[]\n",
    "for p in pred_new:\n",
    "    if np.argmax(p)==2:\n",
    "        prediction.append(1)\n",
    "    elif np.argmax(p)==1:\n",
    "            prediction.append(0)\n",
    "    else:\n",
    "          prediction.append(-1)"
   ]
  },
  {
   "cell_type": "code",
   "execution_count": 73,
   "metadata": {},
   "outputs": [],
   "source": [
    "positive=0\n",
    "neutral=0\n",
    "negative=0\n",
    "for p in prediction:\n",
    "    if(p==1):\n",
    "        positive+=1\n",
    "    elif(p==-1):\n",
    "        negative+=1\n",
    "    else:\n",
    "        neutral+=1"
   ]
  },
  {
   "cell_type": "code",
   "execution_count": 74,
   "metadata": {},
   "outputs": [
    {
     "name": "stdout",
     "output_type": "stream",
     "text": [
      "10793\n"
     ]
    }
   ],
   "source": [
    "print(positive)"
   ]
  },
  {
   "cell_type": "code",
   "execution_count": 75,
   "metadata": {},
   "outputs": [
    {
     "name": "stdout",
     "output_type": "stream",
     "text": [
      "4887\n"
     ]
    }
   ],
   "source": [
    "print(negative)"
   ]
  },
  {
   "cell_type": "code",
   "execution_count": 76,
   "metadata": {},
   "outputs": [
    {
     "name": "stdout",
     "output_type": "stream",
     "text": [
      "8466\n"
     ]
    }
   ],
   "source": [
    "print(neutral)"
   ]
  },
  {
   "cell_type": "code",
   "execution_count": 77,
   "metadata": {},
   "outputs": [],
   "source": [
    "df6['Label']= prediction "
   ]
  },
  {
   "cell_type": "code",
   "execution_count": 78,
   "metadata": {},
   "outputs": [],
   "source": [
    "df6.to_csv('new_imp_data.csv', index= False)"
   ]
  },
  {
   "cell_type": "code",
   "execution_count": 79,
   "metadata": {},
   "outputs": [],
   "source": [
    "df7= pd.read_csv('E:\\\\pythonP\\\\new_imp_data.csv')"
   ]
  },
  {
   "cell_type": "code",
   "execution_count": 84,
   "metadata": {},
   "outputs": [],
   "source": [
    "data= df7[['text','Label']]"
   ]
  },
  {
   "cell_type": "code",
   "execution_count": 85,
   "metadata": {},
   "outputs": [
    {
     "data": {
      "text/html": [
       "<div>\n",
       "<style scoped>\n",
       "    .dataframe tbody tr th:only-of-type {\n",
       "        vertical-align: middle;\n",
       "    }\n",
       "\n",
       "    .dataframe tbody tr th {\n",
       "        vertical-align: top;\n",
       "    }\n",
       "\n",
       "    .dataframe thead th {\n",
       "        text-align: right;\n",
       "    }\n",
       "</style>\n",
       "<table border=\"1\" class=\"dataframe\">\n",
       "  <thead>\n",
       "    <tr style=\"text-align: right;\">\n",
       "      <th></th>\n",
       "      <th>text</th>\n",
       "      <th>Label</th>\n",
       "    </tr>\n",
       "  </thead>\n",
       "  <tbody>\n",
       "    <tr>\n",
       "      <th>0</th>\n",
       "      <td>more than 600 brands have withdrawn from russi...</td>\n",
       "      <td>1</td>\n",
       "    </tr>\n",
       "    <tr>\n",
       "      <th>1</th>\n",
       "      <td>this is funny 😄 ukraine armukrainenow russiana...</td>\n",
       "      <td>-1</td>\n",
       "    </tr>\n",
       "    <tr>\n",
       "      <th>2</th>\n",
       "      <td>after missile strikes on odesa this evening, o...</td>\n",
       "      <td>-1</td>\n",
       "    </tr>\n",
       "    <tr>\n",
       "      <th>3</th>\n",
       "      <td>روسيا أوكرانيا updated special operation map ...</td>\n",
       "      <td>0</td>\n",
       "    </tr>\n",
       "    <tr>\n",
       "      <th>4</th>\n",
       "      <td>very close fighting between russian and ukrain...</td>\n",
       "      <td>0</td>\n",
       "    </tr>\n",
       "    <tr>\n",
       "      <th>5</th>\n",
       "      <td>breaking now - new video - american fighter i...</td>\n",
       "      <td>1</td>\n",
       "    </tr>\n",
       "    <tr>\n",
       "      <th>6</th>\n",
       "      <td>russianukrainianwar update hosted by , where ...</td>\n",
       "      <td>-1</td>\n",
       "    </tr>\n",
       "    <tr>\n",
       "      <th>7</th>\n",
       "      <td>📌 cia director william burns: \"in the long ter...</td>\n",
       "      <td>1</td>\n",
       "    </tr>\n",
       "    <tr>\n",
       "      <th>8</th>\n",
       "      <td>i wish i could write long text regarding all t...</td>\n",
       "      <td>1</td>\n",
       "    </tr>\n",
       "    <tr>\n",
       "      <th>9</th>\n",
       "      <td>america’s pres. biden signs 'ukraine democracy...</td>\n",
       "      <td>-1</td>\n",
       "    </tr>\n",
       "  </tbody>\n",
       "</table>\n",
       "</div>"
      ],
      "text/plain": [
       "                                                text  Label\n",
       "0  more than 600 brands have withdrawn from russi...      1\n",
       "1  this is funny 😄 ukraine armukrainenow russiana...     -1\n",
       "2  after missile strikes on odesa this evening, o...     -1\n",
       "3   روسيا أوكرانيا updated special operation map ...      0\n",
       "4  very close fighting between russian and ukrain...      0\n",
       "5   breaking now - new video - american fighter i...      1\n",
       "6   russianukrainianwar update hosted by , where ...     -1\n",
       "7  📌 cia director william burns: \"in the long ter...      1\n",
       "8  i wish i could write long text regarding all t...      1\n",
       "9  america’s pres. biden signs 'ukraine democracy...     -1"
      ]
     },
     "execution_count": 85,
     "metadata": {},
     "output_type": "execute_result"
    }
   ],
   "source": [
    "data.head(10)"
   ]
  },
  {
   "cell_type": "code",
   "execution_count": null,
   "metadata": {},
   "outputs": [],
   "source": []
  }
 ],
 "metadata": {
  "kernelspec": {
   "display_name": "Python 3",
   "language": "python",
   "name": "python3"
  },
  "language_info": {
   "codemirror_mode": {
    "name": "ipython",
    "version": 3
   },
   "file_extension": ".py",
   "mimetype": "text/x-python",
   "name": "python",
   "nbconvert_exporter": "python",
   "pygments_lexer": "ipython3",
   "version": "3.8.5"
  }
 },
 "nbformat": 4,
 "nbformat_minor": 4
}
